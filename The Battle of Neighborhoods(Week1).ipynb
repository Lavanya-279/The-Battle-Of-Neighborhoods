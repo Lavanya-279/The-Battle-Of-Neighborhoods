{
    "cells": [
        {
            "metadata": {},
            "cell_type": "markdown",
            "source": "<h1>COURSESERA CAPSTONE PROJECT</h1>"
        },
        {
            "metadata": {},
            "cell_type": "markdown",
            "source": "<h2>THE BATTLE OF NEIGHBORHOODS</h2>"
        },
        {
            "metadata": {},
            "cell_type": "markdown",
            "source": "<h2>1.INTRODUCTION SECTION</h2>"
        },
        {
            "metadata": {},
            "cell_type": "markdown",
            "source": "<h3>Discussion of the business problem and the audience who would be interested in this project.</h3>"
        },
        {
            "metadata": {},
            "cell_type": "markdown",
            "source": "<h4>1.1 Scenario and Background</h4>"
        },
        {
            "metadata": {},
            "cell_type": "markdown",
            "source": "<p>I am a data scientist currently residing in Downtown Singapore. I currently live within walking distance to Downtown \"Telok Ayer MRT metro station\" therefore I have access to good public transportation to work. Likewise, I enjoy many ammenities in the neighborhood , such as international cousine restaurants, cafes, food shops and entertainment. I have been offered a great opportunity to work in Manhattan, NY. Although, I am very excited about it, I am a bit stress toward the process to secure a comparable place to live in Manhattan. Therefore, I decided to apply the learned skills during the Coursera course to explore ways to make sure my decision is factual and rewarding. Of course, there are alternatives to achieve the answer using available Google and Social media tools, but it rewarding doing it myself with learned tools.</p>"
        },
        {
            "metadata": {},
            "cell_type": "markdown",
            "source": "<h4>1.2 Problem to be resolved</h4>"
        },
        {
            "metadata": {},
            "cell_type": "markdown",
            "source": "<p>The challenge to resolve is being able to find a rental apartment unit in Manhattan NY that offers similar characteristics and benefits to my current situation. Therefore, in order to set a basis for comparison, I want to find a renta unit subject to the following conditions:\n<ul>\n<li>Apartment with min 2 bedrooms with monthly rent not to exceed US$7000/month</li>\n<li>Unit located within walking distance (<=1.0 mile, 1.6 km) from a subway metro station in Manhattan</li>\n<li>Area with ammenities and venues similar to the ones described for current location ( See item 2.1)</li>\n</ul></p>"
        },
        {
            "metadata": {},
            "cell_type": "markdown",
            "source": "<h4>1.3 Interested Audience</h4>"
        },
        {
            "metadata": {},
            "cell_type": "markdown",
            "source": "<p>I believe this is a relevant project for a person or entity considering moving to a major city in Europe, US or Asia, since the approach and methodologies used here are applicable in all cases. The use of FourSquare data and mapping techniques combined with data analysis will help resolve the key questions arisen. Lastly, this project is a good practical case toward the development of Data Science skills.</p>"
        },
        {
            "metadata": {},
            "cell_type": "markdown",
            "source": "<h2>2.DATA SECTION</h2>"
        },
        {
            "metadata": {},
            "cell_type": "markdown",
            "source": "<h3>Description of the data and its sources that will be used to solve the problem</h3>"
        },
        {
            "metadata": {},
            "cell_type": "markdown",
            "source": "<h4>2.1 Data of Current Situation</h4>"
        },
        {
            "metadata": {},
            "cell_type": "markdown",
            "source": "<p>I Currently reside in the neighborhood of 'Mccallum Street' in Downtonw Singapore. I use Foursquare to identify the venues around the area of residence which are then shown in the Singapore map shown in methodology and execution in section 3.0 . It serves as a reference for comparison with the desired future location in Manhattan NY</p>"
        },
        {
            "metadata": {},
            "cell_type": "markdown",
            "source": "<h4>2.2 Data Required to resolve the problem</h4>"
        },
        {
            "metadata": {},
            "cell_type": "markdown",
            "source": "<p>In order to make a good choice of a similar apartment in Manhattan NY, the following data is required: List/Information on neighborhoods form Manhattan with their Geodata ( latitud and longitud. List/Information about the subway metro stations in Manhattan with geodata. Listed apartments for rent in Manhattan area with descriptions ( how many beds, price, location, address) Venues and ammenities in the Manhattan neighborhoods (e.g. top 10) 2.3 sources and manipulation The list of Manhattan neighborhoods is worked out during LAb exercise during the course. A csv file was created which will be read in order to create a dataframe and its mapping. The csv file 'mh_neigh_data.csv' has the following below data structure. The file will be directly read to the Jupiter Notebook for convenience and space savings. The clustering of neighborhoods and mapping will be shown however. An algorythm was used to determine the geodata from Nominatim . The actual algorythm coding may be shown in 'markdown' mode becasues it takes time to run.</p>"
        },
        {
            "metadata": {},
            "cell_type": "markdown",
            "source": "<p>A list of Manhattan subway metro stops was complied in Numbers (Apple excel) and it was complemeted with wikipedia data ( https://en.wikipedia.org/wiki/List_of_New_York_City_Subway_stations_in_Manhattan) and information from NY Transit authority and Google maps (https://www.google.com/maps/search/manhattan+subway+metro+stations/@40.7837297,-74.1033043,11z/data=!3m1!4b1) for a final consolidated list of subway stops names and their address. The geolocation was obtained via an algorythm using Nominatim</p>"
        },
        {
            "metadata": {},
            "cell_type": "markdown",
            "source": "<p>A csv file was compiled with the rental place that indicated: areas of Manhattan, address, number of beds, area and monthly rental price. The csv file \"nnnn.csv\" had the following below structure. An algorythm was used to create all the geodata using Nominatim, as shown in section 3.0. The actual algorythm coding may be shown in 'markdown' mode becasues it takes time to run. With the use of geolocator = Nominatim() , it was possible to determine the latitude and longiude for the subway metro locations as well as for the geodata for each rental place listed. The loop algorythms used are shown in the execution of data in section 3.0 \"Great_circle\" function from geolocator was used to calculate distances between two points , as in the case to calculate average rent price for units around each subway station and at 1.6 km radius. Foursquare is used to find the avenues at Manhattan neighborhoods in general and a cluster is created to later be able to search for the venues depending of the location shown.</p>"
        },
        {
            "metadata": {},
            "cell_type": "markdown",
            "source": "<h4>2.4 How the data will be used to solve the problem</h4>"
        },
        {
            "metadata": {},
            "cell_type": "markdown",
            "source": "<p>The data will be used as follows: Use Foursquare and geopy data to map top 10 venues for all Manhattan neighborhoods and clustered in groups ( as per Course LAB) Use foursquare and geopy data to map the location of subway metro stations , separately and on top of the above clustered map in order to be able to identify the venues and ammenities near each metro station, or explore each subway location separately Use Foursquare and geopy data to map the location of rental places, in some form, linked to the subway locations. create a map that depicts, for instance, the average rental price per square ft, around a radious of 1.0 mile (1.6 km) around each subway station - or a similar metrics. I will be able to quickly point to the popups to know the relative price per subway area. Addresses from rental locations will be converted to geodata( lat, long) using Geopy-distance and Nominatim. Data will be searched in open data sources if available, from real estate sites if open to reading, libraries or other government agencies such as Metro New York MTA, etc.</p>"
        },
        {
            "metadata": {},
            "cell_type": "markdown",
            "source": "<h4>2.5 Mapping of Data</h4>"
        },
        {
            "metadata": {},
            "cell_type": "markdown",
            "source": "<p>The following maps were created to facilitate the analysis and the choice of the palace to live. Manhattan map of Neighborhoods manhattan subway metro locations Manhattan map of places for rent Manhattan map of clustered venues and neighborhoods Combined maps of Manhattan rent places with subway locations Combined maps of Manhattan rent places with subway locations and venues clusters.</p>"
        }
    ],
    "metadata": {
        "kernelspec": {
            "name": "python3",
            "display_name": "Python 3.6",
            "language": "python"
        },
        "language_info": {
            "name": "python",
            "version": "3.6.9",
            "mimetype": "text/x-python",
            "codemirror_mode": {
                "name": "ipython",
                "version": 3
            },
            "pygments_lexer": "ipython3",
            "nbconvert_exporter": "python",
            "file_extension": ".py"
        }
    },
    "nbformat": 4,
    "nbformat_minor": 1
}